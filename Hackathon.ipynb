{
 "cells": [
  {
   "cell_type": "markdown",
   "id": "3528a9ee",
   "metadata": {},
   "source": [
    "## `INNOMATICS RESEARCH LABS Hackathon ------------------------------`"
   ]
  },
  {
   "cell_type": "code",
   "execution_count": 465,
   "id": "5e9baa5c",
   "metadata": {},
   "outputs": [],
   "source": [
    "import pandas as pd\n",
    "import numpy as np\n",
    "import matplotlib.pyplot as plt\n",
    "import seaborn as sns\n",
    "import warnings\n",
    "warnings.filterwarnings('ignore')"
   ]
  },
  {
   "cell_type": "code",
   "execution_count": 466,
   "id": "a3382eff",
   "metadata": {},
   "outputs": [
    {
     "data": {
      "text/html": [
       "<div>\n",
       "<style scoped>\n",
       "    .dataframe tbody tr th:only-of-type {\n",
       "        vertical-align: middle;\n",
       "    }\n",
       "\n",
       "    .dataframe tbody tr th {\n",
       "        vertical-align: top;\n",
       "    }\n",
       "\n",
       "    .dataframe thead th {\n",
       "        text-align: right;\n",
       "    }\n",
       "</style>\n",
       "<table border=\"1\" class=\"dataframe\">\n",
       "  <thead>\n",
       "    <tr style=\"text-align: right;\">\n",
       "      <th></th>\n",
       "      <th>x1</th>\n",
       "      <th>x2</th>\n",
       "      <th>y</th>\n",
       "    </tr>\n",
       "  </thead>\n",
       "  <tbody>\n",
       "    <tr>\n",
       "      <th>0</th>\n",
       "      <td>-119.366669</td>\n",
       "      <td>115.000000</td>\n",
       "      <td>1</td>\n",
       "    </tr>\n",
       "    <tr>\n",
       "      <th>1</th>\n",
       "      <td>-101.108045</td>\n",
       "      <td>97.777159</td>\n",
       "      <td>1</td>\n",
       "    </tr>\n",
       "    <tr>\n",
       "      <th>2</th>\n",
       "      <td>-130.278658</td>\n",
       "      <td>106.767654</td>\n",
       "      <td>1</td>\n",
       "    </tr>\n",
       "    <tr>\n",
       "      <th>3</th>\n",
       "      <td>-114.703415</td>\n",
       "      <td>101.195477</td>\n",
       "      <td>1</td>\n",
       "    </tr>\n",
       "    <tr>\n",
       "      <th>4</th>\n",
       "      <td>-119.366669</td>\n",
       "      <td>115.000000</td>\n",
       "      <td>1</td>\n",
       "    </tr>\n",
       "  </tbody>\n",
       "</table>\n",
       "</div>"
      ],
      "text/plain": [
       "           x1          x2  y\n",
       "0 -119.366669  115.000000  1\n",
       "1 -101.108045   97.777159  1\n",
       "2 -130.278658  106.767654  1\n",
       "3 -114.703415  101.195477  1\n",
       "4 -119.366669  115.000000  1"
      ]
     },
     "execution_count": 466,
     "metadata": {},
     "output_type": "execute_result"
    }
   ],
   "source": [
    "data = pd.read_csv('data hackathon.csv')\n",
    "data.head()"
   ]
  },
  {
   "cell_type": "code",
   "execution_count": 467,
   "id": "299b0488",
   "metadata": {},
   "outputs": [
    {
     "data": {
      "text/plain": [
       "x1    float64\n",
       "x2    float64\n",
       "y       int64\n",
       "dtype: object"
      ]
     },
     "execution_count": 467,
     "metadata": {},
     "output_type": "execute_result"
    }
   ],
   "source": [
    "data.dtypes"
   ]
  },
  {
   "cell_type": "code",
   "execution_count": 468,
   "id": "2447f8a7",
   "metadata": {},
   "outputs": [
    {
     "data": {
      "text/plain": [
       "x1    5\n",
       "x2    3\n",
       "y     0\n",
       "dtype: int64"
      ]
     },
     "execution_count": 468,
     "metadata": {},
     "output_type": "execute_result"
    }
   ],
   "source": [
    "data.isnull().sum()"
   ]
  },
  {
   "cell_type": "code",
   "execution_count": 469,
   "id": "5e579a8f",
   "metadata": {},
   "outputs": [],
   "source": [
    "data.dropna(axis = 0,how='any',inplace=True)  # delete row which contain null values"
   ]
  },
  {
   "cell_type": "code",
   "execution_count": 470,
   "id": "06e06b83",
   "metadata": {},
   "outputs": [
    {
     "data": {
      "text/plain": [
       "x1    0\n",
       "x2    0\n",
       "y     0\n",
       "dtype: int64"
      ]
     },
     "execution_count": 470,
     "metadata": {},
     "output_type": "execute_result"
    }
   ],
   "source": [
    "data.isnull().sum()"
   ]
  },
  {
   "cell_type": "code",
   "execution_count": 471,
   "id": "5b4c70f0",
   "metadata": {},
   "outputs": [
    {
     "data": {
      "text/plain": [
       "(2219, 3)"
      ]
     },
     "execution_count": 471,
     "metadata": {},
     "output_type": "execute_result"
    }
   ],
   "source": [
    "data.shape"
   ]
  },
  {
   "cell_type": "code",
   "execution_count": 472,
   "id": "7668b880",
   "metadata": {},
   "outputs": [
    {
     "data": {
      "text/plain": [
       "x1     0.071848\n",
       "x2    33.287853\n",
       "y      0.233363\n",
       "dtype: float64"
      ]
     },
     "execution_count": 472,
     "metadata": {},
     "output_type": "execute_result"
    }
   ],
   "source": [
    "data.skew()"
   ]
  },
  {
   "cell_type": "code",
   "execution_count": 473,
   "id": "8e28700e",
   "metadata": {},
   "outputs": [
    {
     "data": {
      "text/plain": [
       "x1      -1.264961\n",
       "x2    1107.106508\n",
       "y       -1.947298\n",
       "dtype: float64"
      ]
     },
     "execution_count": 473,
     "metadata": {},
     "output_type": "execute_result"
    }
   ],
   "source": [
    "data.kurt()"
   ]
  },
  {
   "cell_type": "markdown",
   "id": "66ffc1d3",
   "metadata": {},
   "source": [
    "### `univariate analysis`"
   ]
  },
  {
   "cell_type": "markdown",
   "id": "44a24785",
   "metadata": {},
   "source": [
    "### x1"
   ]
  },
  {
   "cell_type": "code",
   "execution_count": 474,
   "id": "656e6bf5",
   "metadata": {},
   "outputs": [
    {
     "data": {
      "text/plain": [
       "<AxesSubplot:xlabel='x1', ylabel='Density'>"
      ]
     },
     "execution_count": 474,
     "metadata": {},
     "output_type": "execute_result"
    },
    {
     "data": {
      "image/png": "[encoded data removed]",
      "text/plain": [
       "<Figure size 432x288 with 1 Axes>"
      ]
     },
     "metadata": {
      "needs_background": "light"
     },
     "output_type": "display_data"
    }
   ],
   "source": [
    "sns.distplot(data['x1'])"
   ]
  },
  {
   "cell_type": "code",
   "execution_count": 475,
   "id": "f800bfcf",
   "metadata": {},
   "outputs": [
    {
     "data": {
      "text/plain": [
       "<AxesSubplot:xlabel='x1'>"
      ]
     },
     "execution_count": 475,
     "metadata": {},
     "output_type": "execute_result"
    },
    {
     "data": {
      "image/png": "[encoded data removed]",
      "text/plain": [
       "<Figure size 432x288 with 1 Axes>"
      ]
     },
     "metadata": {
      "needs_background": "light"
     },
     "output_type": "display_data"
    }
   ],
   "source": [
    "sns.boxplot(data['x1'])"
   ]
  },
  {
   "cell_type": "code",
   "execution_count": 476,
   "id": "6f4d61f1",
   "metadata": {},
   "outputs": [
    {
     "data": {
      "text/plain": [
       "count    2219.000000\n",
       "mean       -4.771837\n",
       "std        74.938264\n",
       "min      -134.369160\n",
       "25%       -71.581453\n",
       "50%        -9.750840\n",
       "75%        59.963056\n",
       "max       134.508687\n",
       "Name: x1, dtype: float64"
      ]
     },
     "execution_count": 476,
     "metadata": {},
     "output_type": "execute_result"
    }
   ],
   "source": [
    "data['x1'].describe()"
   ]
  },
  {
   "cell_type": "code",
   "execution_count": 477,
   "id": "d276b293",
   "metadata": {},
   "outputs": [
    {
     "data": {
      "text/plain": [
       "0.07184836241273518"
      ]
     },
     "execution_count": 477,
     "metadata": {},
     "output_type": "execute_result"
    }
   ],
   "source": [
    "data['x1'].skew()"
   ]
  },
  {
   "cell_type": "markdown",
   "id": "1dbb9dc4",
   "metadata": {},
   "source": [
    "### x2"
   ]
  },
  {
   "cell_type": "code",
   "execution_count": 478,
   "id": "3482d1ee",
   "metadata": {},
   "outputs": [
    {
     "data": {
      "text/plain": [
       "<AxesSubplot:xlabel='x2', ylabel='Density'>"
      ]
     },
     "execution_count": 478,
     "metadata": {},
     "output_type": "execute_result"
    },
    {
     "data": {
      "image/png": "[encoded data removed]",
      "text/plain": [
       "<Figure size 432x288 with 1 Axes>"
      ]
     },
     "metadata": {
      "needs_background": "light"
     },
     "output_type": "display_data"
    }
   ],
   "source": [
    "sns.distplot(data['x2'])"
   ]
  },
  {
   "cell_type": "code",
   "execution_count": 479,
   "id": "43e10dd8",
   "metadata": {},
   "outputs": [
    {
     "data": {
      "text/plain": [
       "<AxesSubplot:xlabel='x2'>"
      ]
     },
     "execution_count": 479,
     "metadata": {},
     "output_type": "execute_result"
    },
    {
     "data": {
      "image/png": "[encoded data removed]",
      "text/plain": [
       "<Figure size 432x288 with 1 Axes>"
      ]
     },
     "metadata": {
      "needs_background": "light"
     },
     "output_type": "display_data"
    }
   ],
   "source": [
    "sns.boxplot(data['x2'])"
   ]
  },
  {
   "cell_type": "code",
   "execution_count": 480,
   "id": "38205a2f",
   "metadata": {},
   "outputs": [
    {
     "data": {
      "text/plain": [
       "count    2.219000e+03\n",
       "mean     8.967782e+04\n",
       "std      2.986680e+06\n",
       "min     -1.348761e+02\n",
       "25%     -8.025966e+01\n",
       "50%     -1.566092e+00\n",
       "75%      6.390448e+01\n",
       "max      1.000000e+08\n",
       "Name: x2, dtype: float64"
      ]
     },
     "execution_count": 480,
     "metadata": {},
     "output_type": "execute_result"
    }
   ],
   "source": [
    "data['x2'].describe()"
   ]
  },
  {
   "cell_type": "code",
   "execution_count": 481,
   "id": "0831e602",
   "metadata": {},
   "outputs": [
    {
     "data": {
      "text/plain": [
       "33.28785250526122"
      ]
     },
     "execution_count": 481,
     "metadata": {},
     "output_type": "execute_result"
    }
   ],
   "source": [
    "data['x2'].skew()"
   ]
  },
  {
   "cell_type": "markdown",
   "id": "c14e67f5",
   "metadata": {},
   "source": [
    "### y"
   ]
  },
  {
   "cell_type": "code",
   "execution_count": 482,
   "id": "f6e819e4",
   "metadata": {},
   "outputs": [
    {
     "data": {
      "text/plain": [
       "0    1238\n",
       "1     981\n",
       "Name: y, dtype: int64"
      ]
     },
     "execution_count": 482,
     "metadata": {},
     "output_type": "execute_result"
    }
   ],
   "source": [
    "data['y'].value_counts()"
   ]
  },
  {
   "cell_type": "code",
   "execution_count": 483,
   "id": "741fccca",
   "metadata": {},
   "outputs": [
    {
     "data": {
      "text/plain": [
       "<AxesSubplot:xlabel='y', ylabel='count'>"
      ]
     },
     "execution_count": 483,
     "metadata": {},
     "output_type": "execute_result"
    },
    {
     "data": {
      "image/png": "[encoded data removed]",
      "text/plain": [
       "<Figure size 432x288 with 1 Axes>"
      ]
     },
     "metadata": {
      "needs_background": "light"
     },
     "output_type": "display_data"
    }
   ],
   "source": [
    "sns.countplot(data['y'])"
   ]
  },
  {
   "cell_type": "markdown",
   "id": "a330dd13",
   "metadata": {},
   "source": [
    "### `Bivariate analysis`"
   ]
  },
  {
   "cell_type": "code",
   "execution_count": 484,
   "id": "38e30097",
   "metadata": {},
   "outputs": [],
   "source": [
    "cont_columns = ['x1','x2']"
   ]
  },
  {
   "cell_type": "code",
   "execution_count": 485,
   "id": "d72e6122",
   "metadata": {},
   "outputs": [
    {
     "name": "stdout",
     "output_type": "stream",
     "text": [
      "x1 vs y => Ttest_indResult(statistic=-5.7332307226646675, pvalue=1.1198092675879041e-08)\n",
      "x2 vs y => Ttest_indResult(statistic=-1.259249084655836, pvalue=0.2080729399714693)\n"
     ]
    }
   ],
   "source": [
    "from scipy.stats import ttest_ind\n",
    "\n",
    "for i in cont_columns:\n",
    "    target_yes = data.loc[data['y']==1,i]\n",
    "    target_no = data.loc[data['y']==0,i]\n",
    "    ttest_results = ttest_ind(target_yes,target_no)\n",
    "    print(f'{i} vs y => {ttest_results}')"
   ]
  },
  {
   "cell_type": "markdown",
   "id": "5e767194",
   "metadata": {},
   "source": [
    "### `x2 is not related according to t-test , drop it ------------------------`"
   ]
  },
  {
   "cell_type": "code",
   "execution_count": 486,
   "id": "3bb5cd44",
   "metadata": {},
   "outputs": [],
   "source": [
    "from sklearn.preprocessing import minmax_scale\n",
    "data[['x1']] = minmax_scale(data[['x1']])"
   ]
  },
  {
   "cell_type": "code",
   "execution_count": 487,
   "id": "b2c3bd51",
   "metadata": {},
   "outputs": [],
   "source": [
    "X = data.x1.values.reshape(-1,1)\n",
    "y = data['y']"
   ]
  },
  {
   "cell_type": "code",
   "execution_count": 488,
   "id": "b350f924",
   "metadata": {},
   "outputs": [],
   "source": [
    "from sklearn.model_selection import train_test_split\n",
    "X_train,X_test, y_train, y_test = train_test_split(X,y,test_size=0.20,random_state=42)"
   ]
  },
  {
   "cell_type": "markdown",
   "id": "d774db02",
   "metadata": {},
   "source": [
    "## `Logistic Regression ---------------`"
   ]
  },
  {
   "cell_type": "code",
   "execution_count": 489,
   "id": "8ff8a5dc",
   "metadata": {},
   "outputs": [
    {
     "data": {
      "text/plain": [
       "LogisticRegression()"
      ]
     },
     "execution_count": 489,
     "metadata": {},
     "output_type": "execute_result"
    }
   ],
   "source": [
    "from sklearn.linear_model import LogisticRegression\n",
    "model = LogisticRegression()\n",
    "model.fit(X_train,y_train)"
   ]
  },
  {
   "cell_type": "code",
   "execution_count": 490,
   "id": "214d0e14",
   "metadata": {},
   "outputs": [],
   "source": [
    "y_pred = model.predict(X_test)"
   ]
  },
  {
   "cell_type": "code",
   "execution_count": 491,
   "id": "815f0ea6",
   "metadata": {},
   "outputs": [
    {
     "name": "stdout",
     "output_type": "stream",
     "text": [
      "Confusion matrix =>\n",
      " [[196  45]\n",
      " [150  53]]\n",
      "Accuracy => 0.5608108108108109\n",
      "Precision => 0.5408163265306123\n",
      "Recall => 0.26108374384236455\n",
      "f1-score => 0.3521594684385382\n"
     ]
    }
   ],
   "source": [
    "from sklearn.metrics import accuracy_score, confusion_matrix,precision_score,recall_score,f1_score\n",
    "print(f'Confusion matrix =>\\n {confusion_matrix(y_test,y_pred)}')\n",
    "print(f'Accuracy => {accuracy_score(y_test,y_pred)}')\n",
    "print(f'Precision => {precision_score(y_test,y_pred)}')\n",
    "print(f'Recall => {recall_score(y_test,y_pred)}')\n",
    "print(f'f1-score => {f1_score(y_test,y_pred)}')"
   ]
  },
  {
   "cell_type": "markdown",
   "id": "a071a6c2",
   "metadata": {},
   "source": [
    "<br />\n",
    "<br />\n",
    "<br />\n",
    "<br />\n",
    "\n",
    "---------\n",
    "\n",
    "## `Decision Tree ---------------------`"
   ]
  },
  {
   "cell_type": "code",
   "execution_count": 492,
   "id": "19e3928f",
   "metadata": {},
   "outputs": [
    {
     "data": {
      "text/plain": [
       "DecisionTreeClassifier(max_depth=3)"
      ]
     },
     "execution_count": 492,
     "metadata": {},
     "output_type": "execute_result"
    }
   ],
   "source": [
    "from sklearn.tree import DecisionTreeClassifier,plot_tree\n",
    "tree = DecisionTreeClassifier(criterion='gini',max_depth=3)\n",
    "tree.fit(X_train,y_train)"
   ]
  },
  {
   "cell_type": "code",
   "execution_count": 493,
   "id": "a8adf5ce",
   "metadata": {},
   "outputs": [],
   "source": [
    "y_pred = tree.predict(X_test)"
   ]
  },
  {
   "cell_type": "code",
   "execution_count": 494,
   "id": "e57a8b82",
   "metadata": {},
   "outputs": [
    {
     "name": "stdout",
     "output_type": "stream",
     "text": [
      "Confusion matrix =>\n",
      " [[183  58]\n",
      " [137  66]]\n",
      "Accuracy => 0.5608108108108109\n",
      "Precision => 0.532258064516129\n",
      "Recall => 0.3251231527093596\n",
      "f1-score => 0.40366972477064217\n"
     ]
    }
   ],
   "source": [
    "from sklearn.metrics import accuracy_score, confusion_matrix,precision_score,recall_score,f1_score\n",
    "print(f'Confusion matrix =>\\n {confusion_matrix(y_test,y_pred)}')\n",
    "print(f'Accuracy => {accuracy_score(y_test,y_pred)}')\n",
    "print(f'Precision => {precision_score(y_test,y_pred)}')\n",
    "print(f'Recall => {recall_score(y_test,y_pred)}')\n",
    "print(f'f1-score => {f1_score(y_test,y_pred)}')"
   ]
  },
  {
   "cell_type": "markdown",
   "id": "69e2ac2c",
   "metadata": {},
   "source": [
    "#### `Grid Search --------------------------------------------------`"
   ]
  },
  {
   "cell_type": "code",
   "execution_count": 495,
   "id": "05d7baf1",
   "metadata": {},
   "outputs": [],
   "source": [
    "from sklearn.model_selection import GridSearchCV\n",
    "param_grid = {\n",
    "    'criterion':['entropy','gini'],\n",
    "    'max_depth':[2,4,5,6,7,8,14,15]\n",
    "}\n",
    "\n",
    "tree = DecisionTreeClassifier()"
   ]
  },
  {
   "cell_type": "code",
   "execution_count": 496,
   "id": "af117d3f",
   "metadata": {},
   "outputs": [],
   "source": [
    "tree_grid = GridSearchCV(tree,param_grid,n_jobs=-1,scoring='precision')"
   ]
  },
  {
   "cell_type": "code",
   "execution_count": 497,
   "id": "4cfc5bdf",
   "metadata": {},
   "outputs": [
    {
     "data": {
      "text/plain": [
       "GridSearchCV(estimator=DecisionTreeClassifier(), n_jobs=-1,\n",
       "             param_grid={'criterion': ['entropy', 'gini'],\n",
       "                         'max_depth': [2, 4, 5, 6, 7, 8, 14, 15]},\n",
       "             scoring='precision')"
      ]
     },
     "execution_count": 497,
     "metadata": {},
     "output_type": "execute_result"
    }
   ],
   "source": [
    "tree_grid.fit(X_train,y_train.astype(int))"
   ]
  },
  {
   "cell_type": "code",
   "execution_count": 498,
   "id": "1e4f842b",
   "metadata": {},
   "outputs": [
    {
     "data": {
      "text/plain": [
       "{'criterion': 'gini', 'max_depth': 2}"
      ]
     },
     "execution_count": 498,
     "metadata": {},
     "output_type": "execute_result"
    }
   ],
   "source": [
    "tree_grid.best_params_"
   ]
  },
  {
   "cell_type": "code",
   "execution_count": 499,
   "id": "65ad7c2f",
   "metadata": {},
   "outputs": [
    {
     "data": {
      "text/plain": [
       "DecisionTreeClassifier(max_depth=2)"
      ]
     },
     "execution_count": 499,
     "metadata": {},
     "output_type": "execute_result"
    }
   ],
   "source": [
    "from sklearn.tree import DecisionTreeClassifier,plot_tree\n",
    "tree = DecisionTreeClassifier(criterion='gini',max_depth=2)\n",
    "tree.fit(X_train,y_train)"
   ]
  },
  {
   "cell_type": "code",
   "execution_count": 500,
   "id": "cb525062",
   "metadata": {},
   "outputs": [],
   "source": [
    "y_pred = tree.predict(X_test)"
   ]
  },
  {
   "cell_type": "code",
   "execution_count": 501,
   "id": "bfa2b8b7",
   "metadata": {},
   "outputs": [
    {
     "name": "stdout",
     "output_type": "stream",
     "text": [
      "Confusion matrix =>\n",
      " [[178  63]\n",
      " [135  68]]\n",
      "Accuracy => 0.5540540540540541\n",
      "Precision => 0.5190839694656488\n",
      "Recall => 0.33497536945812806\n",
      "f1-score => 0.4071856287425149\n"
     ]
    }
   ],
   "source": [
    "from sklearn.metrics import accuracy_score, confusion_matrix,precision_score,recall_score,f1_score\n",
    "print(f'Confusion matrix =>\\n {confusion_matrix(y_test,y_pred)}')\n",
    "print(f'Accuracy => {accuracy_score(y_test,y_pred)}')\n",
    "print(f'Precision => {precision_score(y_test,y_pred)}')\n",
    "print(f'Recall => {recall_score(y_test,y_pred)}')\n",
    "print(f'f1-score => {f1_score(y_test,y_pred)}')"
   ]
  },
  {
   "cell_type": "markdown",
   "id": "2dabc678",
   "metadata": {},
   "source": [
    "<br />\n",
    "<br />\n",
    "<br />\n",
    "<br />\n",
    "\n",
    "---------\n",
    "\n",
    "\n",
    "\n",
    "## `KNN -------------------------------`"
   ]
  },
  {
   "cell_type": "code",
   "execution_count": 502,
   "id": "ebece230",
   "metadata": {},
   "outputs": [],
   "source": [
    "from sklearn.neighbors import KNeighborsClassifier\n",
    "knn = KNeighborsClassifier(n_neighbors=3,p=2)\n",
    "knn.fit(X_train,y_train)\n",
    "y_pred  = knn.predict(X_test)"
   ]
  },
  {
   "cell_type": "code",
   "execution_count": 503,
   "id": "2dace58f",
   "metadata": {},
   "outputs": [
    {
     "name": "stdout",
     "output_type": "stream",
     "text": [
      "Confusion matrix =>\n",
      " [[147  94]\n",
      " [114  89]]\n",
      "Accuracy => 0.5315315315315315\n",
      "Precision => 0.48633879781420764\n",
      "Recall => 0.43842364532019706\n",
      "f1-score => 0.46113989637305697\n"
     ]
    }
   ],
   "source": [
    "from sklearn.metrics import accuracy_score, confusion_matrix,precision_score,recall_score,f1_score\n",
    "print(f'Confusion matrix =>\\n {confusion_matrix(y_test,y_pred)}')\n",
    "print(f'Accuracy => {accuracy_score(y_test,y_pred)}')\n",
    "print(f'Precision => {precision_score(y_test,y_pred)}')\n",
    "print(f'Recall => {recall_score(y_test,y_pred)}')\n",
    "print(f'f1-score => {f1_score(y_test,y_pred)}')"
   ]
  },
  {
   "cell_type": "markdown",
   "id": "4a5819a9",
   "metadata": {},
   "source": [
    "#### `Grid Search --------------------------------------`"
   ]
  },
  {
   "cell_type": "code",
   "execution_count": 504,
   "id": "be5fbb36",
   "metadata": {},
   "outputs": [],
   "source": [
    "parameters = {\n",
    "    \"n_neighbors\": list(range(3,17,2)),\n",
    "    \"p\":[1,2]\n",
    "}"
   ]
  },
  {
   "cell_type": "code",
   "execution_count": 505,
   "id": "04ffe587",
   "metadata": {},
   "outputs": [
    {
     "data": {
      "text/plain": [
       "GridSearchCV(estimator=KNeighborsClassifier(), n_jobs=-1,\n",
       "             param_grid={'n_neighbors': [3, 5, 7, 9, 11, 13, 15], 'p': [1, 2]},\n",
       "             scoring='precision')"
      ]
     },
     "execution_count": 505,
     "metadata": {},
     "output_type": "execute_result"
    }
   ],
   "source": [
    "from sklearn.model_selection import GridSearchCV\n",
    "\n",
    "knn = KNeighborsClassifier()\n",
    "grid = GridSearchCV(knn,parameters,n_jobs=-1,scoring=\"precision\")\n",
    "grid.fit(X_train,y_train)"
   ]
  },
  {
   "cell_type": "code",
   "execution_count": 506,
   "id": "6f759932",
   "metadata": {},
   "outputs": [
    {
     "data": {
      "text/plain": [
       "{'n_neighbors': 13, 'p': 1}"
      ]
     },
     "execution_count": 506,
     "metadata": {},
     "output_type": "execute_result"
    }
   ],
   "source": [
    "grid.best_params_"
   ]
  },
  {
   "cell_type": "code",
   "execution_count": 507,
   "id": "80318bcd",
   "metadata": {},
   "outputs": [],
   "source": [
    "from sklearn.neighbors import KNeighborsClassifier\n",
    "knn = KNeighborsClassifier(n_neighbors=13,p=1)\n",
    "knn.fit(X_train,y_train)\n",
    "y_pred  = knn.predict(X_test)"
   ]
  },
  {
   "cell_type": "code",
   "execution_count": 508,
   "id": "763d4e25",
   "metadata": {},
   "outputs": [
    {
     "name": "stdout",
     "output_type": "stream",
     "text": [
      "Confusion matrix =>\n",
      " [[160  81]\n",
      " [134  69]]\n",
      "Accuracy => 0.5157657657657657\n",
      "Precision => 0.46\n",
      "Recall => 0.3399014778325123\n",
      "f1-score => 0.3909348441926346\n"
     ]
    }
   ],
   "source": [
    "from sklearn.metrics import accuracy_score, confusion_matrix,precision_score,recall_score,f1_score\n",
    "print(f'Confusion matrix =>\\n {confusion_matrix(y_test,y_pred)}')\n",
    "print(f'Accuracy => {accuracy_score(y_test,y_pred)}')\n",
    "print(f'Precision => {precision_score(y_test,y_pred)}')\n",
    "print(f'Recall => {recall_score(y_test,y_pred)}')\n",
    "print(f'f1-score => {f1_score(y_test,y_pred)}')"
   ]
  },
  {
   "cell_type": "markdown",
   "id": "41dee29c",
   "metadata": {},
   "source": [
    "<br />\n",
    "<br />\n",
    "<br />\n",
    "<br />\n",
    "\n",
    "---------\n",
    "\n",
    "## `SVM with Linear Kernel => SVC -------------------------------`"
   ]
  },
  {
   "cell_type": "code",
   "execution_count": 509,
   "id": "00c2f18f",
   "metadata": {},
   "outputs": [],
   "source": [
    "from sklearn.svm import SVC\n",
    "svc = SVC(C=1.0, kernel='linear')\n",
    "svc.fit(X_train,y_train)\n",
    "y_pred = svc.predict(X_test)"
   ]
  },
  {
   "cell_type": "code",
   "execution_count": 510,
   "id": "9aff1fc5",
   "metadata": {},
   "outputs": [
    {
     "name": "stdout",
     "output_type": "stream",
     "text": [
      "Confusion matrix =>\n",
      " [[241   0]\n",
      " [203   0]]\n",
      "Accuracy => 0.5427927927927928\n",
      "Precision => 0.0\n",
      "Recall => 0.0\n",
      "f1-score => 0.0\n"
     ]
    }
   ],
   "source": [
    "from sklearn.metrics import accuracy_score, confusion_matrix,precision_score,recall_score,f1_score\n",
    "print(f'Confusion matrix =>\\n {confusion_matrix(y_test,y_pred)}')\n",
    "print(f'Accuracy => {accuracy_score(y_test,y_pred)}')\n",
    "print(f'Precision => {precision_score(y_test,y_pred)}')\n",
    "print(f'Recall => {recall_score(y_test,y_pred)}')\n",
    "print(f'f1-score => {f1_score(y_test,y_pred)}')"
   ]
  },
  {
   "cell_type": "markdown",
   "id": "c3fd57b5",
   "metadata": {},
   "source": [
    "#### `Grid Search -------------------------------------------------`"
   ]
  },
  {
   "cell_type": "code",
   "execution_count": 511,
   "id": "82af6928",
   "metadata": {},
   "outputs": [],
   "source": [
    "parameters = {\n",
    "    \"gamma\": ['scale','auto'],\n",
    "    \"C\":[1.0,2.0]\n",
    "}"
   ]
  },
  {
   "cell_type": "code",
   "execution_count": 512,
   "id": "e0c77590",
   "metadata": {},
   "outputs": [
    {
     "data": {
      "text/plain": [
       "GridSearchCV(estimator=SVC(kernel='linear'), n_jobs=-1,\n",
       "             param_grid={'C': [1.0, 2.0], 'gamma': ['scale', 'auto']},\n",
       "             scoring='accuracy')"
      ]
     },
     "execution_count": 512,
     "metadata": {},
     "output_type": "execute_result"
    }
   ],
   "source": [
    "from sklearn.model_selection import GridSearchCV\n",
    "svc = SVC(kernel='linear')\n",
    "grid = GridSearchCV(svc,parameters,n_jobs=-1,scoring=\"accuracy\")\n",
    "grid.fit(X_train,y_train)"
   ]
  },
  {
   "cell_type": "code",
   "execution_count": 513,
   "id": "9fd9bc3b",
   "metadata": {},
   "outputs": [],
   "source": [
    "y_pred = grid.predict(X_test)"
   ]
  },
  {
   "cell_type": "code",
   "execution_count": 514,
   "id": "c4e0edf1",
   "metadata": {},
   "outputs": [
    {
     "name": "stdout",
     "output_type": "stream",
     "text": [
      "Confusion matrix =>\n",
      " [[241   0]\n",
      " [203   0]]\n",
      "Accuracy => 0.5427927927927928\n",
      "Precision => 0.0\n",
      "Recall => 0.0\n",
      "f1-score => 0.0\n"
     ]
    }
   ],
   "source": [
    "from sklearn.metrics import accuracy_score, confusion_matrix,precision_score,recall_score,f1_score\n",
    "print(f'Confusion matrix =>\\n {confusion_matrix(y_test,y_pred)}')\n",
    "print(f'Accuracy => {accuracy_score(y_test,y_pred)}')\n",
    "print(f'Precision => {precision_score(y_test,y_pred)}')\n",
    "print(f'Recall => {recall_score(y_test,y_pred)}')\n",
    "print(f'f1-score => {f1_score(y_test,y_pred)}')"
   ]
  },
  {
   "cell_type": "markdown",
   "id": "77ea899f",
   "metadata": {},
   "source": [
    "<br />\n",
    "<br />\n",
    "<br />\n",
    "<br />\n",
    "\n",
    "---------\n",
    "\n",
    "## `SVM with RBF Kernel => SVC -------------------------------`"
   ]
  },
  {
   "cell_type": "code",
   "execution_count": 515,
   "id": "a27eb5c8",
   "metadata": {},
   "outputs": [],
   "source": [
    "from sklearn.svm import SVC\n",
    "svc = SVC(C=1.0, kernel='rbf')\n",
    "svc.fit(X_train,y_train)\n",
    "y_pred = svc.predict(X_test)"
   ]
  },
  {
   "cell_type": "code",
   "execution_count": 516,
   "id": "4b1627c6",
   "metadata": {},
   "outputs": [
    {
     "name": "stdout",
     "output_type": "stream",
     "text": [
      "Confusion matrix =>\n",
      " [[193  48]\n",
      " [142  61]]\n",
      "Accuracy => 0.5720720720720721\n",
      "Precision => 0.5596330275229358\n",
      "Recall => 0.30049261083743845\n",
      "f1-score => 0.3910256410256411\n"
     ]
    }
   ],
   "source": [
    "from sklearn.metrics import accuracy_score, confusion_matrix,precision_score,recall_score,f1_score\n",
    "print(f'Confusion matrix =>\\n {confusion_matrix(y_test,y_pred)}')\n",
    "print(f'Accuracy => {accuracy_score(y_test,y_pred)}')\n",
    "print(f'Precision => {precision_score(y_test,y_pred)}')\n",
    "print(f'Recall => {recall_score(y_test,y_pred)}')\n",
    "print(f'f1-score => {f1_score(y_test,y_pred)}')"
   ]
  },
  {
   "cell_type": "markdown",
   "id": "25a5c203",
   "metadata": {},
   "source": [
    "#### `Grid Search`"
   ]
  },
  {
   "cell_type": "code",
   "execution_count": 517,
   "id": "eeed075d",
   "metadata": {},
   "outputs": [],
   "source": [
    "parameters = {\n",
    "    \"gamma\": ['scale','auto'],\n",
    "    \"C\":[1.0,2.0]\n",
    "}"
   ]
  },
  {
   "cell_type": "code",
   "execution_count": 518,
   "id": "fcb3b808",
   "metadata": {},
   "outputs": [
    {
     "data": {
      "text/plain": [
       "GridSearchCV(estimator=SVC(), n_jobs=-1,\n",
       "             param_grid={'C': [1.0, 2.0], 'gamma': ['scale', 'auto']},\n",
       "             scoring='accuracy')"
      ]
     },
     "execution_count": 518,
     "metadata": {},
     "output_type": "execute_result"
    }
   ],
   "source": [
    "from sklearn.model_selection import GridSearchCV\n",
    "svc = SVC(kernel='rbf')\n",
    "grid = GridSearchCV(svc,parameters,n_jobs=-1,scoring=\"accuracy\")\n",
    "grid.fit(X_train,y_train)"
   ]
  },
  {
   "cell_type": "code",
   "execution_count": 519,
   "id": "5721ac90",
   "metadata": {},
   "outputs": [],
   "source": [
    "y_pred = grid.predict(X_test)"
   ]
  },
  {
   "cell_type": "code",
   "execution_count": 520,
   "id": "ed33b7d2",
   "metadata": {},
   "outputs": [
    {
     "name": "stdout",
     "output_type": "stream",
     "text": [
      "Confusion matrix =>\n",
      " [[193  48]\n",
      " [142  61]]\n",
      "Accuracy => 0.5720720720720721\n",
      "Precision => 0.5596330275229358\n",
      "Recall => 0.30049261083743845\n",
      "f1-score => 0.3910256410256411\n"
     ]
    }
   ],
   "source": [
    "from sklearn.metrics import accuracy_score, confusion_matrix,precision_score,recall_score,f1_score\n",
    "print(f'Confusion matrix =>\\n {confusion_matrix(y_test,y_pred)}')\n",
    "print(f'Accuracy => {accuracy_score(y_test,y_pred)}')\n",
    "print(f'Precision => {precision_score(y_test,y_pred)}')\n",
    "print(f'Recall => {recall_score(y_test,y_pred)}')\n",
    "print(f'f1-score => {f1_score(y_test,y_pred)}')"
   ]
  },
  {
   "cell_type": "markdown",
   "id": "1cb06f3a",
   "metadata": {},
   "source": [
    "<br />\n",
    "<br />\n",
    "<br />\n",
    "<br />\n",
    "<br />\n",
    "\n",
    "--------------\n",
    "\n",
    "## `Observations ----------------------------------------------`\n",
    "##### Here in this hackathon I have tested 5 models :\n",
    "    Logistic Regression\n",
    "    Decision Tree\n",
    "    KNN\n",
    "    SVM with Linear Kernel\n",
    "    SVM with RBF Kernel\n",
    "    \n",
    "    \n",
    "##### Below are their accuracies and best parameters :\n",
    "    Logistic Regression\n",
    "        Accuracy => 0.5608108108108109\n",
    "        Precision => 0.5408163265306123\n",
    "        Recall => 0.26108374384236455\n",
    "        f1-score => 0.3521594684385382\n",
    "    Decision Tree\n",
    "        Accuracy => 0.5608108108108109\n",
    "        Precision => 0.532258064516129\n",
    "        Recall => 0.3251231527093596\n",
    "        f1-score => 0.40366972477064217\n",
    "    KNN\n",
    "        Accuracy => 0.5315315315315315\n",
    "        Precision => 0.48633879781420764\n",
    "        Recall => 0.43842364532019706\n",
    "        f1-score => 0.46113989637305697\n",
    "    SVM with Linear Kernel\n",
    "        Accuracy => 0.5427927927927928\n",
    "        Precision => 0.0\n",
    "        Recall => 0.0\n",
    "        f1-score => 0.0\n",
    "    SVM with RBF Kernel\n",
    "        Accuracy => 0.5720720720720721\n",
    "        Precision => 0.5596330275229358\n",
    "        Recall => 0.30049261083743845\n",
    "        f1-score => 0.3910256410256411\n",
    "        \n",
    "#### Through modelling of all 5 models I get the outcome that:\n",
    "`SVM with RBF Kernel has given the highest accuracy`"
   ]
  }
 ],
 "metadata": {
  "kernelspec": {
   "display_name": "Python 3",
   "language": "python",
   "name": "python3"
  },
  "language_info": {
   "codemirror_mode": {
    "name": "ipython",
    "version": 3
   },
   "file_extension": ".py",
   "mimetype": "text/x-python",
   "name": "python",
   "nbconvert_exporter": "python",
   "pygments_lexer": "ipython3",
   "version": "3.8.8"
  }
 },
 "nbformat": 4,
 "nbformat_minor": 5
}
