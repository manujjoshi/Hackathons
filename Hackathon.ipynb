{
 "cells": [
  {
   "cell_type": "markdown",
   "id": "b54bef03",
   "metadata": {},
   "source": [
    "## `INNOMATICS RESEARCH LABS Hackathon ------------------------------`"
   ]
  },
  {
   "cell_type": "code",
   "execution_count": 95,
   "id": "139171e7",
   "metadata": {},
   "outputs": [],
   "source": [
    "import pandas as pd\n",
    "import numpy as np\n",
    "import matplotlib.pyplot as plt\n",
    "import seaborn as sns\n",
    "import warnings\n",
    "warnings.filterwarnings('ignore')"
   ]
  },
  {
   "cell_type": "code",
   "execution_count": 96,
   "id": "6d54dba6",
   "metadata": {},
   "outputs": [
    {
     "data": {
      "text/html": [
       "<div>\n",
       "<style scoped>\n",
       "    .dataframe tbody tr th:only-of-type {\n",
       "        vertical-align: middle;\n",
       "    }\n",
       "\n",
       "    .dataframe tbody tr th {\n",
       "        vertical-align: top;\n",
       "    }\n",
       "\n",
       "    .dataframe thead th {\n",
       "        text-align: right;\n",
       "    }\n",
       "</style>\n",
       "<table border=\"1\" class=\"dataframe\">\n",
       "  <thead>\n",
       "    <tr style=\"text-align: right;\">\n",
       "      <th></th>\n",
       "      <th>x1</th>\n",
       "      <th>x2</th>\n",
       "      <th>y</th>\n",
       "    </tr>\n",
       "  </thead>\n",
       "  <tbody>\n",
       "    <tr>\n",
       "      <th>0</th>\n",
       "      <td>-119.366669</td>\n",
       "      <td>115.000000</td>\n",
       "      <td>1</td>\n",
       "    </tr>\n",
       "    <tr>\n",
       "      <th>1</th>\n",
       "      <td>-101.108045</td>\n",
       "      <td>97.777159</td>\n",
       "      <td>1</td>\n",
       "    </tr>\n",
       "    <tr>\n",
       "      <th>2</th>\n",
       "      <td>-130.278658</td>\n",
       "      <td>106.767654</td>\n",
       "      <td>1</td>\n",
       "    </tr>\n",
       "    <tr>\n",
       "      <th>3</th>\n",
       "      <td>-114.703415</td>\n",
       "      <td>101.195477</td>\n",
       "      <td>1</td>\n",
       "    </tr>\n",
       "    <tr>\n",
       "      <th>4</th>\n",
       "      <td>-119.366669</td>\n",
       "      <td>115.000000</td>\n",
       "      <td>1</td>\n",
       "    </tr>\n",
       "  </tbody>\n",
       "</table>\n",
       "</div>"
      ],
      "text/plain": [
       "           x1          x2  y\n",
       "0 -119.366669  115.000000  1\n",
       "1 -101.108045   97.777159  1\n",
       "2 -130.278658  106.767654  1\n",
       "3 -114.703415  101.195477  1\n",
       "4 -119.366669  115.000000  1"
      ]
     },
     "execution_count": 96,
     "metadata": {},
     "output_type": "execute_result"
    }
   ],
   "source": [
    "data = pd.read_csv('data hackathon.csv')\n",
    "data.head()"
   ]
  },
  {
   "cell_type": "code",
   "execution_count": 97,
   "id": "1644c17d",
   "metadata": {},
   "outputs": [
    {
     "data": {
      "text/plain": [
       "x1    float64\n",
       "x2    float64\n",
       "y       int64\n",
       "dtype: object"
      ]
     },
     "execution_count": 97,
     "metadata": {},
     "output_type": "execute_result"
    }
   ],
   "source": [
    "data.dtypes"
   ]
  },
  {
   "cell_type": "code",
   "execution_count": 98,
   "id": "edae03a0",
   "metadata": {},
   "outputs": [
    {
     "data": {
      "text/plain": [
       "x1    5\n",
       "x2    3\n",
       "y     0\n",
       "dtype: int64"
      ]
     },
     "execution_count": 98,
     "metadata": {},
     "output_type": "execute_result"
    }
   ],
   "source": [
    "data.isnull().sum()"
   ]
  },
  {
   "cell_type": "code",
   "execution_count": 99,
   "id": "12f9b40e",
   "metadata": {},
   "outputs": [],
   "source": [
    "data.dropna(axis = 0,how='any',inplace=True)  # delete row which contain null values"
   ]
  },
  {
   "cell_type": "code",
   "execution_count": 100,
   "id": "903ced22",
   "metadata": {},
   "outputs": [
    {
     "data": {
      "text/plain": [
       "x1    0\n",
       "x2    0\n",
       "y     0\n",
       "dtype: int64"
      ]
     },
     "execution_count": 100,
     "metadata": {},
     "output_type": "execute_result"
    }
   ],
   "source": [
    "data.isnull().sum()"
   ]
  },
  {
   "cell_type": "code",
   "execution_count": 101,
   "id": "2a7b02f3",
   "metadata": {},
   "outputs": [
    {
     "data": {
      "text/plain": [
       "(2219, 3)"
      ]
     },
     "execution_count": 101,
     "metadata": {},
     "output_type": "execute_result"
    }
   ],
   "source": [
    "data.shape"
   ]
  },
  {
   "cell_type": "code",
   "execution_count": 102,
   "id": "0ceaf062",
   "metadata": {},
   "outputs": [
    {
     "data": {
      "text/plain": [
       "x1     0.071848\n",
       "x2    33.287853\n",
       "y      0.233363\n",
       "dtype: float64"
      ]
     },
     "execution_count": 102,
     "metadata": {},
     "output_type": "execute_result"
    }
   ],
   "source": [
    "data.skew()"
   ]
  },
  {
   "cell_type": "code",
   "execution_count": 103,
   "id": "0df026b6",
   "metadata": {},
   "outputs": [
    {
     "data": {
      "text/plain": [
       "x1      -1.264961\n",
       "x2    1107.106508\n",
       "y       -1.947298\n",
       "dtype: float64"
      ]
     },
     "execution_count": 103,
     "metadata": {},
     "output_type": "execute_result"
    }
   ],
   "source": [
    "data.kurt()"
   ]
  },
  {
   "cell_type": "markdown",
   "id": "7da9548d",
   "metadata": {},
   "source": [
    "### `univariate analysis`"
   ]
  },
  {
   "cell_type": "markdown",
   "id": "e038b712",
   "metadata": {},
   "source": [
    "### x1"
   ]
  },
  {
   "cell_type": "code",
   "execution_count": 104,
   "id": "4ccd2d6b",
   "metadata": {},
   "outputs": [
    {
     "data": {
      "text/plain": [
       "<AxesSubplot:xlabel='x1', ylabel='Density'>"
      ]
     },
     "execution_count": 104,
     "metadata": {},
     "output_type": "execute_result"
    },
    {
     "data": {
      "image/png": "[encoded data removed]",
      "text/plain": [
       "<Figure size 432x288 with 1 Axes>"
      ]
     },
     "metadata": {
      "needs_background": "light"
     },
     "output_type": "display_data"
    }
   ],
   "source": [
    "sns.distplot(data['x1'])"
   ]
  },
  {
   "cell_type": "code",
   "execution_count": 105,
   "id": "217aac17",
   "metadata": {},
   "outputs": [
    {
     "data": {
      "text/plain": [
       "<AxesSubplot:xlabel='x1'>"
      ]
     },
     "execution_count": 105,
     "metadata": {},
     "output_type": "execute_result"
    },
    {
     "data": {
      "image/png": "[encoded data removed]",
      "text/plain": [
       "<Figure size 432x288 with 1 Axes>"
      ]
     },
     "metadata": {
      "needs_background": "light"
     },
     "output_type": "display_data"
    }
   ],
   "source": [
    "sns.boxplot(data['x1'])"
   ]
  },
  {
   "cell_type": "code",
   "execution_count": 106,
   "id": "0e63c850",
   "metadata": {},
   "outputs": [
    {
     "data": {
      "text/plain": [
       "count    2219.000000\n",
       "mean       -4.771837\n",
       "std        74.938264\n",
       "min      -134.369160\n",
       "25%       -71.581453\n",
       "50%        -9.750840\n",
       "75%        59.963056\n",
       "max       134.508687\n",
       "Name: x1, dtype: float64"
      ]
     },
     "execution_count": 106,
     "metadata": {},
     "output_type": "execute_result"
    }
   ],
   "source": [
    "data['x1'].describe()"
   ]
  },
  {
   "cell_type": "code",
   "execution_count": 107,
   "id": "08675542",
   "metadata": {},
   "outputs": [
    {
     "data": {
      "text/plain": [
       "0.07184836241273518"
      ]
     },
     "execution_count": 107,
     "metadata": {},
     "output_type": "execute_result"
    }
   ],
   "source": [
    "data['x1'].skew()"
   ]
  },
  {
   "cell_type": "code",
   "execution_count": 108,
   "id": "d6dd12c2",
   "metadata": {},
   "outputs": [
    {
     "name": "stdout",
     "output_type": "stream",
     "text": [
      "Lower Bound = -268.898215945 and Upper Bound = 257.279819455\n"
     ]
    }
   ],
   "source": [
    "q1=np.percentile(data['x1'],25)\n",
    "q3=np.percentile(data['x1'],75)\n",
    "IQR=q3-q1\n",
    "good_value=1.5 * IQR\n",
    "lower_bound=q1-good_value\n",
    "upper_bound=q3+good_value\n",
    "print(f'Lower Bound = {lower_bound} and Upper Bound = {upper_bound}')"
   ]
  },
  {
   "cell_type": "code",
   "execution_count": 109,
   "id": "57d2971f",
   "metadata": {},
   "outputs": [],
   "source": [
    "data = data[data['x1'] <= upper_bound]   # remove outliers"
   ]
  },
  {
   "cell_type": "markdown",
   "id": "627a8dcc",
   "metadata": {},
   "source": [
    "### x2"
   ]
  },
  {
   "cell_type": "code",
   "execution_count": 110,
   "id": "bafc0c28",
   "metadata": {},
   "outputs": [
    {
     "data": {
      "text/plain": [
       "<AxesSubplot:xlabel='x2', ylabel='Density'>"
      ]
     },
     "execution_count": 110,
     "metadata": {},
     "output_type": "execute_result"
    },
    {
     "data": {
      "image/png": "[encoded data removed]",
      "text/plain": [
       "<Figure size 432x288 with 1 Axes>"
      ]
     },
     "metadata": {
      "needs_background": "light"
     },
     "output_type": "display_data"
    }
   ],
   "source": [
    "sns.distplot(data['x2'])"
   ]
  },
  {
   "cell_type": "code",
   "execution_count": 111,
   "id": "244d38da",
   "metadata": {},
   "outputs": [
    {
     "data": {
      "text/plain": [
       "<AxesSubplot:xlabel='x2'>"
      ]
     },
     "execution_count": 111,
     "metadata": {},
     "output_type": "execute_result"
    },
    {
     "data": {
      "image/png": "[encoded data removed]",
      "text/plain": [
       "<Figure size 432x288 with 1 Axes>"
      ]
     },
     "metadata": {
      "needs_background": "light"
     },
     "output_type": "display_data"
    }
   ],
   "source": [
    "sns.boxplot(data['x2'])"
   ]
  },
  {
   "cell_type": "code",
   "execution_count": 112,
   "id": "b101171a",
   "metadata": {},
   "outputs": [
    {
     "name": "stdout",
     "output_type": "stream",
     "text": [
      "Lower Bound = -296.5058689975 and Upper Bound = 280.1506946225\n"
     ]
    }
   ],
   "source": [
    "q1=np.percentile(data['x2'],25)\n",
    "q3=np.percentile(data['x2'],75)\n",
    "IQR=q3-q1\n",
    "good_value=1.5 * IQR\n",
    "lower_bound=q1-good_value\n",
    "upper_bound=q3+good_value\n",
    "print(f'Lower Bound = {lower_bound} and Upper Bound = {upper_bound}')"
   ]
  },
  {
   "cell_type": "code",
   "execution_count": 113,
   "id": "5ac1114d",
   "metadata": {},
   "outputs": [],
   "source": [
    "data = data[data['x2'] <= upper_bound]   # remove outliers"
   ]
  },
  {
   "cell_type": "code",
   "execution_count": 114,
   "id": "81fe9412",
   "metadata": {},
   "outputs": [
    {
     "data": {
      "text/plain": [
       "count    2217.000000\n",
       "mean       -6.730568\n",
       "std        79.843938\n",
       "min      -134.876132\n",
       "25%       -80.519315\n",
       "50%        -1.827336\n",
       "75%        63.622498\n",
       "max       134.929748\n",
       "Name: x2, dtype: float64"
      ]
     },
     "execution_count": 114,
     "metadata": {},
     "output_type": "execute_result"
    }
   ],
   "source": [
    "data['x2'].describe()"
   ]
  },
  {
   "cell_type": "code",
   "execution_count": 115,
   "id": "3f727545",
   "metadata": {},
   "outputs": [
    {
     "data": {
      "text/plain": [
       "-0.006862610670415014"
      ]
     },
     "execution_count": 115,
     "metadata": {},
     "output_type": "execute_result"
    }
   ],
   "source": [
    "data['x2'].skew()"
   ]
  },
  {
   "cell_type": "code",
   "execution_count": 116,
   "id": "f6261179",
   "metadata": {},
   "outputs": [
    {
     "data": {
      "text/plain": [
       "<AxesSubplot:xlabel='x2', ylabel='Density'>"
      ]
     },
     "execution_count": 116,
     "metadata": {},
     "output_type": "execute_result"
    },
    {
     "data": {
      "image/png": "[encoded data removed]",
      "text/plain": [
       "<Figure size 432x288 with 1 Axes>"
      ]
     },
     "metadata": {
      "needs_background": "light"
     },
     "output_type": "display_data"
    }
   ],
   "source": [
    "sns.distplot(data['x2'])"
   ]
  },
  {
   "cell_type": "markdown",
   "id": "e1ed290c",
   "metadata": {},
   "source": [
    "### y"
   ]
  },
  {
   "cell_type": "code",
   "execution_count": 117,
   "id": "b688d9af",
   "metadata": {},
   "outputs": [
    {
     "data": {
      "text/plain": [
       "0    1236\n",
       "1     981\n",
       "Name: y, dtype: int64"
      ]
     },
     "execution_count": 117,
     "metadata": {},
     "output_type": "execute_result"
    }
   ],
   "source": [
    "data['y'].value_counts()"
   ]
  },
  {
   "cell_type": "code",
   "execution_count": 118,
   "id": "beb5b75b",
   "metadata": {},
   "outputs": [
    {
     "data": {
      "text/plain": [
       "<AxesSubplot:xlabel='y', ylabel='count'>"
      ]
     },
     "execution_count": 118,
     "metadata": {},
     "output_type": "execute_result"
    },
    {
     "data": {
      "image/png": "[encoded data removed]",
      "text/plain": [
       "<Figure size 432x288 with 1 Axes>"
      ]
     },
     "metadata": {
      "needs_background": "light"
     },
     "output_type": "display_data"
    }
   ],
   "source": [
    "sns.countplot(data['y'])"
   ]
  },
  {
   "cell_type": "markdown",
   "id": "59c666e2",
   "metadata": {},
   "source": [
    "### `Bivariate analysis`"
   ]
  },
  {
   "cell_type": "code",
   "execution_count": 119,
   "id": "a9cca9e4",
   "metadata": {},
   "outputs": [],
   "source": [
    "cont_columns = ['x1','x2']"
   ]
  },
  {
   "cell_type": "code",
   "execution_count": 120,
   "id": "33a50ddd",
   "metadata": {},
   "outputs": [
    {
     "name": "stdout",
     "output_type": "stream",
     "text": [
      "x1 vs y => Ttest_indResult(statistic=-5.689023533827039, pvalue=1.4467150236235103e-08)\n",
      "x2 vs y => Ttest_indResult(statistic=2.9795758837968047, pvalue=0.002917864796008186)\n"
     ]
    }
   ],
   "source": [
    "from scipy.stats import ttest_ind\n",
    "\n",
    "for i in cont_columns:\n",
    "    target_yes = data.loc[data['y']==1,i]\n",
    "    target_no = data.loc[data['y']==0,i]\n",
    "    ttest_results = ttest_ind(target_yes,target_no)\n",
    "    print(f'{i} vs y => {ttest_results}')"
   ]
  },
  {
   "cell_type": "code",
   "execution_count": 121,
   "id": "8fb7f857",
   "metadata": {},
   "outputs": [],
   "source": [
    "X = data[['x1','x2']]\n",
    "y = data['y']"
   ]
  },
  {
   "cell_type": "code",
   "execution_count": 122,
   "id": "b48e8ae7",
   "metadata": {},
   "outputs": [],
   "source": [
    "from sklearn.model_selection import train_test_split\n",
    "X_train,X_test, y_train, y_test = train_test_split(X,y,test_size=0.20,random_state=42)"
   ]
  },
  {
   "cell_type": "code",
   "execution_count": 123,
   "id": "4617b3d1",
   "metadata": {},
   "outputs": [
    {
     "data": {
      "text/plain": [
       "StandardScaler()"
      ]
     },
     "execution_count": 123,
     "metadata": {},
     "output_type": "execute_result"
    }
   ],
   "source": [
    "from sklearn.preprocessing import StandardScaler\n",
    "sc = StandardScaler()\n",
    "sc.fit(X_train[['x1','x2']])"
   ]
  },
  {
   "cell_type": "code",
   "execution_count": 124,
   "id": "cff77044",
   "metadata": {},
   "outputs": [],
   "source": [
    "X_train[['x1', 'x2']] = sc.transform(X_train[['x1','x2']])\n",
    "X_test[['x1','x2']] = sc.transform(X_test[['x1','x2']])"
   ]
  },
  {
   "cell_type": "markdown",
   "id": "dc485504",
   "metadata": {},
   "source": [
    "## `Logistic Regression ---------------`"
   ]
  },
  {
   "cell_type": "code",
   "execution_count": 125,
   "id": "16f156f0",
   "metadata": {},
   "outputs": [
    {
     "data": {
      "text/plain": [
       "LogisticRegression()"
      ]
     },
     "execution_count": 125,
     "metadata": {},
     "output_type": "execute_result"
    }
   ],
   "source": [
    "from sklearn.linear_model import LogisticRegression\n",
    "model = LogisticRegression()\n",
    "model.fit(X_train,y_train)"
   ]
  },
  {
   "cell_type": "code",
   "execution_count": 126,
   "id": "0350116b",
   "metadata": {},
   "outputs": [],
   "source": [
    "y_pred = model.predict(X_test)"
   ]
  },
  {
   "cell_type": "code",
   "execution_count": 127,
   "id": "1d415a96",
   "metadata": {},
   "outputs": [
    {
     "name": "stdout",
     "output_type": "stream",
     "text": [
      "Confusion matrix =>\n",
      " [[239   1]\n",
      " [125  79]]\n",
      "Accuracy => 0.7162162162162162\n",
      "Precision => 0.9875\n",
      "Recall => 0.3872549019607843\n",
      "f1-score => 0.5563380281690141\n"
     ]
    }
   ],
   "source": [
    "from sklearn.metrics import accuracy_score, confusion_matrix,precision_score,recall_score,f1_score\n",
    "print(f'Confusion matrix =>\\n {confusion_matrix(y_test,y_pred)}')\n",
    "print(f'Accuracy => {accuracy_score(y_test,y_pred)}')\n",
    "print(f'Precision => {precision_score(y_test,y_pred)}')\n",
    "print(f'Recall => {recall_score(y_test,y_pred)}')\n",
    "print(f'f1-score => {f1_score(y_test,y_pred)}')"
   ]
  },
  {
   "cell_type": "markdown",
   "id": "4c979e68",
   "metadata": {},
   "source": [
    "<br />\n",
    "<br />\n",
    "<br />\n",
    "<br />\n",
    "\n",
    "---------\n",
    "\n",
    "## `Decision Tree ---------------------`"
   ]
  },
  {
   "cell_type": "code",
   "execution_count": 128,
   "id": "da834229",
   "metadata": {},
   "outputs": [
    {
     "data": {
      "text/plain": [
       "DecisionTreeClassifier(max_depth=3)"
      ]
     },
     "execution_count": 128,
     "metadata": {},
     "output_type": "execute_result"
    }
   ],
   "source": [
    "from sklearn.tree import DecisionTreeClassifier,plot_tree\n",
    "tree = DecisionTreeClassifier(criterion='gini',max_depth=3)\n",
    "tree.fit(X_train,y_train)"
   ]
  },
  {
   "cell_type": "code",
   "execution_count": 129,
   "id": "4814a679",
   "metadata": {},
   "outputs": [],
   "source": [
    "y_pred = tree.predict(X_test)"
   ]
  },
  {
   "cell_type": "code",
   "execution_count": 130,
   "id": "34a08776",
   "metadata": {},
   "outputs": [
    {
     "name": "stdout",
     "output_type": "stream",
     "text": [
      "Confusion matrix =>\n",
      " [[213  27]\n",
      " [ 22 182]]\n",
      "Accuracy => 0.8896396396396397\n",
      "Precision => 0.8708133971291866\n",
      "Recall => 0.8921568627450981\n",
      "f1-score => 0.8813559322033899\n"
     ]
    }
   ],
   "source": [
    "from sklearn.metrics import accuracy_score, confusion_matrix,precision_score,recall_score,f1_score\n",
    "print(f'Confusion matrix =>\\n {confusion_matrix(y_test,y_pred)}')\n",
    "print(f'Accuracy => {accuracy_score(y_test,y_pred)}')\n",
    "print(f'Precision => {precision_score(y_test,y_pred)}')\n",
    "print(f'Recall => {recall_score(y_test,y_pred)}')\n",
    "print(f'f1-score => {f1_score(y_test,y_pred)}')"
   ]
  },
  {
   "cell_type": "markdown",
   "id": "1cd6b20d",
   "metadata": {},
   "source": [
    "#### `Grid Search --------------------------------------------------`"
   ]
  },
  {
   "cell_type": "code",
   "execution_count": 131,
   "id": "675a3b0d",
   "metadata": {},
   "outputs": [],
   "source": [
    "from sklearn.model_selection import GridSearchCV\n",
    "param_grid = {\n",
    "    'criterion':['entropy','gini'],\n",
    "    'max_depth':[2,4,5,6,7,8,14,15]\n",
    "}\n",
    "\n",
    "tree = DecisionTreeClassifier()"
   ]
  },
  {
   "cell_type": "code",
   "execution_count": 132,
   "id": "ed9e33c4",
   "metadata": {},
   "outputs": [],
   "source": [
    "tree_grid = GridSearchCV(tree,param_grid,n_jobs=-1,scoring='precision',cv=10)"
   ]
  },
  {
   "cell_type": "code",
   "execution_count": 133,
   "id": "989baee0",
   "metadata": {},
   "outputs": [
    {
     "data": {
      "text/plain": [
       "GridSearchCV(cv=10, estimator=DecisionTreeClassifier(), n_jobs=-1,\n",
       "             param_grid={'criterion': ['entropy', 'gini'],\n",
       "                         'max_depth': [2, 4, 5, 6, 7, 8, 14, 15]},\n",
       "             scoring='precision')"
      ]
     },
     "execution_count": 133,
     "metadata": {},
     "output_type": "execute_result"
    }
   ],
   "source": [
    "tree_grid.fit(X_train,y_train.astype(int))"
   ]
  },
  {
   "cell_type": "code",
   "execution_count": 134,
   "id": "7bb229fd",
   "metadata": {},
   "outputs": [
    {
     "data": {
      "text/plain": [
       "{'criterion': 'entropy', 'max_depth': 4}"
      ]
     },
     "execution_count": 134,
     "metadata": {},
     "output_type": "execute_result"
    }
   ],
   "source": [
    "tree_grid.best_params_"
   ]
  },
  {
   "cell_type": "code",
   "execution_count": 135,
   "id": "02947b2f",
   "metadata": {},
   "outputs": [
    {
     "data": {
      "text/plain": [
       "DecisionTreeClassifier(max_depth=2)"
      ]
     },
     "execution_count": 135,
     "metadata": {},
     "output_type": "execute_result"
    }
   ],
   "source": [
    "from sklearn.tree import DecisionTreeClassifier,plot_tree\n",
    "tree = DecisionTreeClassifier(criterion='gini',max_depth=2)\n",
    "tree.fit(X_train,y_train)"
   ]
  },
  {
   "cell_type": "code",
   "execution_count": 136,
   "id": "01af8943",
   "metadata": {},
   "outputs": [],
   "source": [
    "y_pred = tree.predict(X_test)"
   ]
  },
  {
   "cell_type": "code",
   "execution_count": 137,
   "id": "6661a7f6",
   "metadata": {},
   "outputs": [
    {
     "name": "stdout",
     "output_type": "stream",
     "text": [
      "Confusion matrix =>\n",
      " [[150  90]\n",
      " [ 27 177]]\n",
      "Accuracy => 0.7364864864864865\n",
      "Precision => 0.6629213483146067\n",
      "Recall => 0.8676470588235294\n",
      "f1-score => 0.7515923566878979\n"
     ]
    }
   ],
   "source": [
    "from sklearn.metrics import accuracy_score, confusion_matrix,precision_score,recall_score,f1_score\n",
    "print(f'Confusion matrix =>\\n {confusion_matrix(y_test,y_pred)}')\n",
    "print(f'Accuracy => {accuracy_score(y_test,y_pred)}')\n",
    "print(f'Precision => {precision_score(y_test,y_pred)}')\n",
    "print(f'Recall => {recall_score(y_test,y_pred)}')\n",
    "print(f'f1-score => {f1_score(y_test,y_pred)}')"
   ]
  },
  {
   "cell_type": "markdown",
   "id": "3944bfaa",
   "metadata": {},
   "source": [
    "<br />\n",
    "<br />\n",
    "<br />\n",
    "<br />\n",
    "\n",
    "---------\n",
    "\n",
    "\n",
    "\n",
    "## `KNN -------------------------------`"
   ]
  },
  {
   "cell_type": "code",
   "execution_count": 138,
   "id": "c4886e8a",
   "metadata": {},
   "outputs": [],
   "source": [
    "from sklearn.neighbors import KNeighborsClassifier\n",
    "knn = KNeighborsClassifier(n_neighbors=3,p=2)\n",
    "knn.fit(X_train,y_train)\n",
    "y_pred  = knn.predict(X_test)"
   ]
  },
  {
   "cell_type": "code",
   "execution_count": 139,
   "id": "e421d2a2",
   "metadata": {},
   "outputs": [
    {
     "name": "stdout",
     "output_type": "stream",
     "text": [
      "Confusion matrix =>\n",
      " [[220  20]\n",
      " [ 10 194]]\n",
      "Accuracy => 0.9324324324324325\n",
      "Precision => 0.9065420560747663\n",
      "Recall => 0.9509803921568627\n",
      "f1-score => 0.9282296650717703\n"
     ]
    }
   ],
   "source": [
    "from sklearn.metrics import accuracy_score, confusion_matrix,precision_score,recall_score,f1_score\n",
    "print(f'Confusion matrix =>\\n {confusion_matrix(y_test,y_pred)}')\n",
    "print(f'Accuracy => {accuracy_score(y_test,y_pred)}')\n",
    "print(f'Precision => {precision_score(y_test,y_pred)}')\n",
    "print(f'Recall => {recall_score(y_test,y_pred)}')\n",
    "print(f'f1-score => {f1_score(y_test,y_pred)}')"
   ]
  },
  {
   "cell_type": "markdown",
   "id": "d8382c04",
   "metadata": {},
   "source": [
    "#### `Grid Search --------------------------------------`"
   ]
  },
  {
   "cell_type": "code",
   "execution_count": 140,
   "id": "f30b7a61",
   "metadata": {},
   "outputs": [],
   "source": [
    "parameters = {\n",
    "    \"n_neighbors\": list(range(3,17,2)),\n",
    "    \"p\":[1,2]\n",
    "}"
   ]
  },
  {
   "cell_type": "code",
   "execution_count": 141,
   "id": "bc2b4988",
   "metadata": {},
   "outputs": [
    {
     "data": {
      "text/plain": [
       "GridSearchCV(cv=10, estimator=KNeighborsClassifier(), n_jobs=-1,\n",
       "             param_grid={'n_neighbors': [3, 5, 7, 9, 11, 13, 15], 'p': [1, 2]},\n",
       "             scoring='precision')"
      ]
     },
     "execution_count": 141,
     "metadata": {},
     "output_type": "execute_result"
    }
   ],
   "source": [
    "from sklearn.model_selection import GridSearchCV\n",
    "\n",
    "knn = KNeighborsClassifier()\n",
    "grid = GridSearchCV(knn,parameters,n_jobs=-1,scoring=\"precision\",cv=10)\n",
    "grid.fit(X_train,y_train)"
   ]
  },
  {
   "cell_type": "code",
   "execution_count": 142,
   "id": "91e70b23",
   "metadata": {},
   "outputs": [
    {
     "data": {
      "text/plain": [
       "{'n_neighbors': 13, 'p': 1}"
      ]
     },
     "execution_count": 142,
     "metadata": {},
     "output_type": "execute_result"
    }
   ],
   "source": [
    "grid.best_params_"
   ]
  },
  {
   "cell_type": "code",
   "execution_count": 143,
   "id": "bef392f7",
   "metadata": {},
   "outputs": [],
   "source": [
    "from sklearn.neighbors import KNeighborsClassifier\n",
    "knn = KNeighborsClassifier(n_neighbors=13,p=1)\n",
    "knn.fit(X_train,y_train)\n",
    "y_pred  = knn.predict(X_test)"
   ]
  },
  {
   "cell_type": "code",
   "execution_count": 144,
   "id": "2e2bf239",
   "metadata": {},
   "outputs": [
    {
     "name": "stdout",
     "output_type": "stream",
     "text": [
      "Confusion matrix =>\n",
      " [[224  16]\n",
      " [  7 197]]\n",
      "Accuracy => 0.9481981981981982\n",
      "Precision => 0.9248826291079812\n",
      "Recall => 0.9656862745098039\n",
      "f1-score => 0.9448441247002399\n"
     ]
    }
   ],
   "source": [
    "from sklearn.metrics import accuracy_score, confusion_matrix,precision_score,recall_score,f1_score\n",
    "print(f'Confusion matrix =>\\n {confusion_matrix(y_test,y_pred)}')\n",
    "print(f'Accuracy => {accuracy_score(y_test,y_pred)}')\n",
    "print(f'Precision => {precision_score(y_test,y_pred)}')\n",
    "print(f'Recall => {recall_score(y_test,y_pred)}')\n",
    "print(f'f1-score => {f1_score(y_test,y_pred)}')"
   ]
  },
  {
   "cell_type": "markdown",
   "id": "ed84c9c7",
   "metadata": {},
   "source": [
    "<br />\n",
    "<br />\n",
    "<br />\n",
    "<br />\n",
    "\n",
    "---------\n",
    "\n",
    "## `SVM with Linear Kernel => SVC -------------------------------`"
   ]
  },
  {
   "cell_type": "code",
   "execution_count": 145,
   "id": "7baa4194",
   "metadata": {},
   "outputs": [],
   "source": [
    "from sklearn.svm import SVC\n",
    "svc = SVC(C=1.0, kernel='linear')\n",
    "svc.fit(X_train,y_train)\n",
    "y_pred = svc.predict(X_test)"
   ]
  },
  {
   "cell_type": "code",
   "execution_count": 146,
   "id": "f7f5ea31",
   "metadata": {},
   "outputs": [
    {
     "name": "stdout",
     "output_type": "stream",
     "text": [
      "Confusion matrix =>\n",
      " [[240   0]\n",
      " [126  78]]\n",
      "Accuracy => 0.7162162162162162\n",
      "Precision => 1.0\n",
      "Recall => 0.38235294117647056\n",
      "f1-score => 0.5531914893617021\n"
     ]
    }
   ],
   "source": [
    "from sklearn.metrics import accuracy_score, confusion_matrix,precision_score,recall_score,f1_score\n",
    "print(f'Confusion matrix =>\\n {confusion_matrix(y_test,y_pred)}')\n",
    "print(f'Accuracy => {accuracy_score(y_test,y_pred)}')\n",
    "print(f'Precision => {precision_score(y_test,y_pred)}')\n",
    "print(f'Recall => {recall_score(y_test,y_pred)}')\n",
    "print(f'f1-score => {f1_score(y_test,y_pred)}')"
   ]
  },
  {
   "cell_type": "markdown",
   "id": "8b7c6bee",
   "metadata": {},
   "source": [
    "#### `Grid Search -------------------------------------------------`"
   ]
  },
  {
   "cell_type": "code",
   "execution_count": 147,
   "id": "b15e5ed6",
   "metadata": {},
   "outputs": [],
   "source": [
    "parameters = {\n",
    "    \"gamma\": ['scale','auto'],\n",
    "    \"C\":[1.0,2.0]\n",
    "}"
   ]
  },
  {
   "cell_type": "code",
   "execution_count": 148,
   "id": "de14711e",
   "metadata": {},
   "outputs": [
    {
     "data": {
      "text/plain": [
       "GridSearchCV(cv=10, estimator=SVC(kernel='linear'), n_jobs=-1,\n",
       "             param_grid={'C': [1.0, 2.0], 'gamma': ['scale', 'auto']},\n",
       "             scoring='accuracy')"
      ]
     },
     "execution_count": 148,
     "metadata": {},
     "output_type": "execute_result"
    }
   ],
   "source": [
    "from sklearn.model_selection import GridSearchCV\n",
    "svc = SVC(kernel='linear')\n",
    "grid = GridSearchCV(svc,parameters,n_jobs=-1,scoring=\"accuracy\",cv=10)\n",
    "grid.fit(X_train,y_train)"
   ]
  },
  {
   "cell_type": "code",
   "execution_count": 149,
   "id": "cd14531d",
   "metadata": {},
   "outputs": [],
   "source": [
    "y_pred = grid.predict(X_test)"
   ]
  },
  {
   "cell_type": "code",
   "execution_count": 150,
   "id": "d6ced5b7",
   "metadata": {},
   "outputs": [
    {
     "name": "stdout",
     "output_type": "stream",
     "text": [
      "Confusion matrix =>\n",
      " [[240   0]\n",
      " [126  78]]\n",
      "Accuracy => 0.7162162162162162\n",
      "Precision => 1.0\n",
      "Recall => 0.38235294117647056\n",
      "f1-score => 0.5531914893617021\n"
     ]
    }
   ],
   "source": [
    "from sklearn.metrics import accuracy_score, confusion_matrix,precision_score,recall_score,f1_score\n",
    "print(f'Confusion matrix =>\\n {confusion_matrix(y_test,y_pred)}')\n",
    "print(f'Accuracy => {accuracy_score(y_test,y_pred)}')\n",
    "print(f'Precision => {precision_score(y_test,y_pred)}')\n",
    "print(f'Recall => {recall_score(y_test,y_pred)}')\n",
    "print(f'f1-score => {f1_score(y_test,y_pred)}')"
   ]
  },
  {
   "cell_type": "markdown",
   "id": "16302bef",
   "metadata": {},
   "source": [
    "<br />\n",
    "<br />\n",
    "<br />\n",
    "<br />\n",
    "\n",
    "---------\n",
    "\n",
    "## `SVM with RBF Kernel => SVC -------------------------------`"
   ]
  },
  {
   "cell_type": "code",
   "execution_count": 151,
   "id": "ad404c1b",
   "metadata": {},
   "outputs": [],
   "source": [
    "from sklearn.svm import SVC\n",
    "svc = SVC(C=1.0, kernel='rbf')\n",
    "svc.fit(X_train,y_train)\n",
    "y_pred = svc.predict(X_test)"
   ]
  },
  {
   "cell_type": "code",
   "execution_count": 152,
   "id": "cd7354f0",
   "metadata": {},
   "outputs": [
    {
     "name": "stdout",
     "output_type": "stream",
     "text": [
      "Confusion matrix =>\n",
      " [[219  21]\n",
      " [  6 198]]\n",
      "Accuracy => 0.9391891891891891\n",
      "Precision => 0.9041095890410958\n",
      "Recall => 0.9705882352941176\n",
      "f1-score => 0.9361702127659575\n"
     ]
    }
   ],
   "source": [
    "from sklearn.metrics import accuracy_score, confusion_matrix,precision_score,recall_score,f1_score\n",
    "print(f'Confusion matrix =>\\n {confusion_matrix(y_test,y_pred)}')\n",
    "print(f'Accuracy => {accuracy_score(y_test,y_pred)}')\n",
    "print(f'Precision => {precision_score(y_test,y_pred)}')\n",
    "print(f'Recall => {recall_score(y_test,y_pred)}')\n",
    "print(f'f1-score => {f1_score(y_test,y_pred)}')"
   ]
  },
  {
   "cell_type": "markdown",
   "id": "07f7c239",
   "metadata": {},
   "source": [
    "#### `Grid Search`"
   ]
  },
  {
   "cell_type": "code",
   "execution_count": 153,
   "id": "9a5ddf82",
   "metadata": {},
   "outputs": [],
   "source": [
    "parameters = {\n",
    "    \"gamma\": ['scale','auto'],\n",
    "    \"C\":[1.0,2.0]\n",
    "}"
   ]
  },
  {
   "cell_type": "code",
   "execution_count": 154,
   "id": "d9448abf",
   "metadata": {},
   "outputs": [
    {
     "data": {
      "text/plain": [
       "GridSearchCV(cv=10, estimator=SVC(), n_jobs=-1,\n",
       "             param_grid={'C': [1.0, 2.0], 'gamma': ['scale', 'auto']},\n",
       "             scoring='accuracy')"
      ]
     },
     "execution_count": 154,
     "metadata": {},
     "output_type": "execute_result"
    }
   ],
   "source": [
    "from sklearn.model_selection import GridSearchCV\n",
    "svc = SVC(kernel='rbf')\n",
    "grid = GridSearchCV(svc,parameters,n_jobs=-1,scoring=\"accuracy\",cv=10)\n",
    "grid.fit(X_train,y_train)"
   ]
  },
  {
   "cell_type": "code",
   "execution_count": 155,
   "id": "90d2c31a",
   "metadata": {},
   "outputs": [],
   "source": [
    "y_pred = grid.predict(X_test)"
   ]
  },
  {
   "cell_type": "code",
   "execution_count": 156,
   "id": "e4a7d04e",
   "metadata": {},
   "outputs": [
    {
     "name": "stdout",
     "output_type": "stream",
     "text": [
      "Confusion matrix =>\n",
      " [[218  22]\n",
      " [  6 198]]\n",
      "Accuracy => 0.9369369369369369\n",
      "Precision => 0.9\n",
      "Recall => 0.9705882352941176\n",
      "f1-score => 0.9339622641509434\n"
     ]
    }
   ],
   "source": [
    "from sklearn.metrics import accuracy_score, confusion_matrix,precision_score,recall_score,f1_score\n",
    "print(f'Confusion matrix =>\\n {confusion_matrix(y_test,y_pred)}')\n",
    "print(f'Accuracy => {accuracy_score(y_test,y_pred)}')\n",
    "print(f'Precision => {precision_score(y_test,y_pred)}')\n",
    "print(f'Recall => {recall_score(y_test,y_pred)}')\n",
    "print(f'f1-score => {f1_score(y_test,y_pred)}')"
   ]
  },
  {
   "cell_type": "markdown",
   "id": "32c47226",
   "metadata": {},
   "source": [
    "<br />\n",
    "<br />\n",
    "<br />\n",
    "<br />\n",
    "<br />\n",
    "\n",
    "--------------\n",
    "\n",
    "## `Observations ----------------------------------------------`\n",
    "##### Here in this hackathon I have tested 5 models :\n",
    "    Logistic Regression\n",
    "    Decision Tree\n",
    "    KNN\n",
    "    SVM with Linear Kernel\n",
    "    SVM with RBF Kernel\n",
    "    \n",
    "    \n",
    "##### Below are their accuracies and best parameters :\n",
    "    Logistic Regression\n",
    "        Accuracy => 0.7162162162162162\n",
    "        Precision => 0.9875\n",
    "        Recall => 0.3872549019607843\n",
    "        f1-score => 0.5563380281690141\n",
    "    Decision Tree\n",
    "        Accuracy => 0.8896396396396397\n",
    "        Precision => 0.8708133971291866\n",
    "        Recall => 0.8921568627450981\n",
    "        f1-score => 0.8813559322033899\n",
    "    KNN\n",
    "        Accuracy => 0.9481981981981982\n",
    "        Precision => 0.9248826291079812\n",
    "        Recall => 0.9656862745098039\n",
    "        f1-score => 0.9448441247002399\n",
    "    SVM with Linear Kernel\n",
    "        Accuracy => 0.7162162162162162\n",
    "        Precision => 1.0\n",
    "        Recall => 0.38235294117647056\n",
    "        f1-score => 0.5531914893617021\n",
    "    SVM with RBF Kernel\n",
    "        Accuracy => 0.9369369369369369\n",
    "        Precision => 0.9\n",
    "        Recall => 0.9705882352941176\n",
    "        f1-score => 0.9339622641509434\n",
    "        \n",
    "#### Through modelling of all 5 models I get the outcome that:\n",
    "`SVM with RBF Kernel has given the highest accuracy of 94.81`"
   ]
  }
 ],
 "metadata": {
  "kernelspec": {
   "display_name": "Python 3",
   "language": "python",
   "name": "python3"
  },
  "language_info": {
   "codemirror_mode": {
    "name": "ipython",
    "version": 3
   },
   "file_extension": ".py",
   "mimetype": "text/x-python",
   "name": "python",
   "nbconvert_exporter": "python",
   "pygments_lexer": "ipython3",
   "version": "3.8.8"
  }
 },
 "nbformat": 4,
 "nbformat_minor": 5
}
